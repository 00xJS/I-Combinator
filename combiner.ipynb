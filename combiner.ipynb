{
 "cells": [
  {
   "cell_type": "code",
   "execution_count": 1,
   "id": "f8e2c890",
   "metadata": {},
   "outputs": [
    {
     "name": "stdout",
     "output_type": "stream",
     "text": [
      "Output saved to stitched_image.jpg\n"
     ]
    }
   ],
   "source": [
    "from PIL import Image\n",
    "import os\n",
    "\n",
    "def stitch_images(image_paths, output_path, spacing=0):\n",
    "    \"\"\"\n",
    "    Stitch multiple images horizontally into a single image.\n",
    "    \n",
    "    Args:\n",
    "        image_paths (list): List of paths to the input images (1 or more).\n",
    "        output_path (str): Path to save the output image.\n",
    "        spacing (int): Pixels of spacing between images (default: 0).\n",
    "    \"\"\"\n",
    "    if not image_paths:\n",
    "        raise ValueError(\"At least one image path must be provided.\")\n",
    "    \n",
    "    # Open the images\n",
    "    images = [Image.open(path) for path in image_paths]\n",
    "    \n",
    "    # Get dimensions of all images\n",
    "    widths, heights = zip(*(img.size for img in images))\n",
    "    \n",
    "    # Use the minimum height to ensure uniformity\n",
    "    target_height = min(heights)\n",
    "    \n",
    "    # Resize images to have the same height, maintaining aspect ratio\n",
    "    resized_images = []\n",
    "    total_width = 0\n",
    "    for img in images:\n",
    "        # Calculate new width to maintain aspect ratio\n",
    "        ratio = target_height / img.height\n",
    "        new_width = int(img.width * ratio)\n",
    "        resized_img = img.resize((new_width, target_height), Image.Resampling.LANCZOS)\n",
    "        resized_images.append(resized_img)\n",
    "        total_width += new_width\n",
    "    \n",
    "    # Add spacing between images (if more than one image)\n",
    "    total_width += spacing * (len(images) - 1) if len(images) > 1 else 0\n",
    "    \n",
    "    # Create a new blank image with the total width and target height\n",
    "    result = Image.new('RGB', (total_width, target_height), color='white')\n",
    "    \n",
    "    # Paste images side by side\n",
    "    x_offset = 0\n",
    "    for img in resized_images:\n",
    "        result.paste(img, (x_offset, 0))\n",
    "        x_offset += img.width + spacing\n",
    "    \n",
    "    # Save the result\n",
    "    result.save(output_path)\n",
    "    print(f\"Output saved to {output_path}\")\n",
    "\n",
    "if __name__ == \"__main__\":\n",
    "    # Example usage: works with any number of images (2, 3, or more)\n",
    "    image_paths = [\"test1.jpg\", \"test2.jpg\", \"test3.jpg\"]  # Linking Image Paths\n",
    "    # image_paths = [\"image1.jpg\", \"image2.jpg\", \"image3.jpg\", \"image4.jpg\"]  # Example for 4 images\n",
    "    \n",
    "    # Validate that all images exist\n",
    "    for path in image_paths:\n",
    "        if not os.path.exists(path):\n",
    "            raise FileNotFoundError(f\"Image not found: {path}\")\n",
    "    \n",
    "    # Output path for the stitched image\n",
    "    output_path = \"stitched_image.jpg\"\n",
    "    \n",
    "    # Stitch images with no spacing\n",
    "    stitch_images(image_paths, output_path, spacing=0)"
   ]
  }
 ],
 "metadata": {
  "kernelspec": {
   "display_name": "base",
   "language": "python",
   "name": "python3"
  },
  "language_info": {
   "codemirror_mode": {
    "name": "ipython",
    "version": 3
   },
   "file_extension": ".py",
   "mimetype": "text/x-python",
   "name": "python",
   "nbconvert_exporter": "python",
   "pygments_lexer": "ipython3",
   "version": "3.12.7"
  }
 },
 "nbformat": 4,
 "nbformat_minor": 5
}
